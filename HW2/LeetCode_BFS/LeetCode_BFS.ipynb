{
  "nbformat": 4,
  "nbformat_minor": 0,
  "metadata": {
    "colab": {
      "provenance": [],
      "authorship_tag": "ABX9TyMtZ0MVNfpHlhikhQQA2DJJ",
      "include_colab_link": true
    },
    "kernelspec": {
      "name": "python3",
      "display_name": "Python 3"
    },
    "language_info": {
      "name": "python"
    }
  },
  "cells": [
    {
      "cell_type": "markdown",
      "metadata": {
        "id": "view-in-github",
        "colab_type": "text"
      },
      "source": [
        "<a href=\"https://colab.research.google.com/github/nzywalewskisju/AI/blob/main/HW2/LeetCode_BFS/LeetCode_BFS.ipynb\" target=\"_parent\"><img src=\"https://colab.research.google.com/assets/colab-badge.svg\" alt=\"Open In Colab\"/></a>"
      ]
    },
    {
      "cell_type": "markdown",
      "source": [
        "Nick Zywalewski\n",
        "\n",
        "Purpose: The task for this problem was to determine how many islands (adjacent 1s) there are in a grid. 1s are \"land\", and 0s are \"water\"."
      ],
      "metadata": {
        "id": "wP64xff5TTOF"
      }
    },
    {
      "cell_type": "code",
      "execution_count": null,
      "metadata": {
        "id": "rlP-t46DUirf"
      },
      "outputs": [],
      "source": [
        "from collections import deque\n",
        "\n",
        "def numIslands(grid):\n",
        "\n",
        "  # Get the size of the grid\n",
        "  num_rows = len(grid)\n",
        "  num_cols = len(grid[0])\n",
        "\n",
        "  # start with 0 islands and no visited spots\n",
        "  num_islands = 0\n",
        "  visited = set()\n",
        "\n",
        "  # iterate through the grid\n",
        "  for r in range(num_rows):\n",
        "    for c in range(num_cols):\n",
        "\n",
        "      # if there is a one, we add it to the queue and to the visited set\n",
        "      if grid[r][c] == \"1\" and (r,c) not in visited:\n",
        "        queue = deque([(r, c)])\n",
        "        visited.add((r, c))\n",
        "\n",
        "        # Keep exploring as long as the queue is not empty\n",
        "        while queue:\n",
        "\n",
        "          row, col = queue.popleft()\n",
        "\n",
        "          # generate neighbors (up, down, left, right)\n",
        "          for row_move, col_move in [(1, 0), (-1, 0), (0, 1), (0, -1)]:\n",
        "            new_row = row + row_move\n",
        "            new_col = col + col_move\n",
        "\n",
        "            # check if the neighbor is within the grid and has not been visited\n",
        "            if (0 <= new_row < num_rows and 0 <= new_col < num_cols and (new_row, new_col) not in visited):\n",
        "              visited.add((new_row, new_col))\n",
        "\n",
        "              # if the neighbor is a 1, then add it to the queue\n",
        "              if grid[new_row][new_col] == \"1\":\n",
        "                queue.append((new_row, new_col))\n",
        "\n",
        "        # every time we have to visit a new 1, we add one to the island counter\n",
        "        num_islands = num_islands + 1\n",
        "\n",
        "  return num_islands"
      ]
    },
    {
      "cell_type": "code",
      "source": [
        "grid1 = [\n",
        "  [\"1\",\"1\",\"1\",\"1\",\"0\"],\n",
        "  [\"1\",\"1\",\"0\",\"1\",\"0\"],\n",
        "  [\"1\",\"1\",\"0\",\"0\",\"0\"],\n",
        "  [\"0\",\"0\",\"0\",\"0\",\"0\"]\n",
        "]\n",
        "\n",
        "numIslands(grid1)"
      ],
      "metadata": {
        "colab": {
          "base_uri": "https://localhost:8080/"
        },
        "id": "VJTK03igVCmr",
        "outputId": "414f85ee-f96b-4bee-c6bd-1a451e17e6cd"
      },
      "execution_count": null,
      "outputs": [
        {
          "output_type": "execute_result",
          "data": {
            "text/plain": [
              "1"
            ]
          },
          "metadata": {},
          "execution_count": 2
        }
      ]
    },
    {
      "cell_type": "code",
      "source": [
        "grid2 = [\n",
        "  [\"1\",\"1\",\"0\",\"0\",\"0\"],\n",
        "  [\"1\",\"1\",\"0\",\"0\",\"0\"],\n",
        "  [\"0\",\"0\",\"1\",\"0\",\"0\"],\n",
        "  [\"0\",\"0\",\"0\",\"1\",\"1\"]\n",
        "]\n",
        "\n",
        "numIslands(grid2)"
      ],
      "metadata": {
        "colab": {
          "base_uri": "https://localhost:8080/"
        },
        "id": "O88RnqyqV_8e",
        "outputId": "15c1e0cf-598f-4e83-e348-3eff5d07712e"
      },
      "execution_count": null,
      "outputs": [
        {
          "output_type": "execute_result",
          "data": {
            "text/plain": [
              "3"
            ]
          },
          "metadata": {},
          "execution_count": 3
        }
      ]
    }
  ]
}