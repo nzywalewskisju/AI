{
  "nbformat": 4,
  "nbformat_minor": 0,
  "metadata": {
    "colab": {
      "provenance": [],
      "authorship_tag": "ABX9TyNnQOs4cKtohIuNbi+8iEhN",
      "include_colab_link": true
    },
    "kernelspec": {
      "name": "python3",
      "display_name": "Python 3"
    },
    "language_info": {
      "name": "python"
    }
  },
  "cells": [
    {
      "cell_type": "markdown",
      "metadata": {
        "id": "view-in-github",
        "colab_type": "text"
      },
      "source": [
        "<a href=\"https://colab.research.google.com/github/nzywalewskisju/AI/blob/main/HW2/Problem3.ipynb\" target=\"_parent\"><img src=\"https://colab.research.google.com/assets/colab-badge.svg\" alt=\"Open In Colab\"/></a>"
      ]
    },
    {
      "cell_type": "code",
      "execution_count": null,
      "metadata": {
        "id": "kw9PxZNxMBEB"
      },
      "outputs": [],
      "source": [
        "from collections import deque\n",
        "\n",
        "def PathExist(graph, root):\n",
        "\n",
        "    visited, queue = set(), deque([root])\n",
        "    visited.add(root)\n",
        "\n",
        "    while queue:\n",
        "\n",
        "        vertex = queue.pop()\n",
        "\n",
        "        # checking if the Goal state was reached, and if so return SUCCESS\n",
        "        if vertex == 'Goal':\n",
        "          return \"SUCCESS\"\n",
        "\n",
        "        for neighbor in reversed(graph[vertex]):\n",
        "            if neighbor not in visited:\n",
        "                visited.add(neighbor)\n",
        "                queue.append(neighbor)\n",
        "\n",
        "    # if the Goal state was not reached, return FAILURE\n",
        "    return \"FAILURE\""
      ]
    },
    {
      "cell_type": "code",
      "source": [
        "# This maze is solvable\n",
        "\n",
        "maze1 = {\n",
        "  'Start' : ['1'],\n",
        "  '1' : ['6', '2','Start'],\n",
        "  '2' : ['1','3'],\n",
        "  '3' : ['2','8'],\n",
        "  '4' : ['9', '5'],\n",
        "  '5':  ['4', '10'],\n",
        "  '6' : ['1','11'],\n",
        "  '7' : ['12'],\n",
        "  '8' : ['3','9'],\n",
        "  '9' : ['4', '14','8'],\n",
        "  '10' : ['5','15'],\n",
        "  '11' : ['6','12'],\n",
        "  '12' : ['11', '7'],\n",
        "  '13':  ['14', '18'],\n",
        "  '14' : ['13','9'],\n",
        "  '15' : ['10','20'],\n",
        "  '16' : ['17','21'],\n",
        "  '17' : ['16', '22'],\n",
        "  '18' : ['13'],\n",
        "  '19' : ['20','24'],\n",
        "  '20' : ['15', '19'],\n",
        "  '21':  ['16', '26'],\n",
        "  '22' : ['17','23'],\n",
        "  '23' : ['22','24','28'],\n",
        "  '24' : ['19','25','23'],\n",
        "  '25' : ['24','30'],\n",
        "  '26' : ['21','27'],\n",
        "  '27' : ['26','32'],\n",
        "  '28' : ['23', '29'],\n",
        "  '29':  ['28', '34'],\n",
        "  '30' : ['25'],\n",
        "  '31' : ['32','36'],\n",
        "  '32' : ['27','31','33'],\n",
        "  '33' : ['32','38'],\n",
        "  '34':  ['29'],\n",
        "  '35' : ['40'],\n",
        "  '36' : ['31','41'],\n",
        "  '37' : ['38'],\n",
        "  '38' : ['37','33'],\n",
        "  '39' : ['40','44'],\n",
        "  '40' : ['35','39','45'],\n",
        "  '41' : ['36', '46'],\n",
        "  '42':  ['43', '47'],\n",
        "  '43' : ['42','44'],\n",
        "  '44' : ['43','39','49'],\n",
        "  '45' : ['40','50'],\n",
        "  '46' : ['41','47'],\n",
        "  '47' : ['42', '46'],\n",
        "  '48':  ['49'],\n",
        "  '49' : ['48','44'],\n",
        "  '50' : ['45','Goal'],\n",
        "  'Goal' : ['50'],\n",
        "}\n",
        "\n",
        "PathExist(maze1, 'Start')"
      ],
      "metadata": {
        "colab": {
          "base_uri": "https://localhost:8080/",
          "height": 35
        },
        "id": "MPse6viANiTp",
        "outputId": "c0f98f82-19c8-491c-d87b-372770221756"
      },
      "execution_count": null,
      "outputs": [
        {
          "output_type": "execute_result",
          "data": {
            "text/plain": [
              "'SUCCESS'"
            ],
            "application/vnd.google.colaboratory.intrinsic+json": {
              "type": "string"
            }
          },
          "metadata": {},
          "execution_count": 3
        }
      ]
    },
    {
      "cell_type": "code",
      "source": [
        "# This maze should not be solvable-- wall between nodes #8 and #9\n",
        "\n",
        "maze2 = {\n",
        "  'Start' : ['1'],\n",
        "  '1' : ['6', '2','Start'],\n",
        "  '2' : ['1','3'],\n",
        "  '3' : ['2','8'],\n",
        "  '4' : ['9', '5'],\n",
        "  '5':  ['4', '10'],\n",
        "  '6' : ['1','11'],\n",
        "  '7' : ['12'],\n",
        "  '8' : ['3'],\n",
        "  '9' : ['4', '14'],\n",
        "  '10' : ['5','15'],\n",
        "  '11' : ['6','12'],\n",
        "  '12' : ['11', '7'],\n",
        "  '13':  ['14', '18'],\n",
        "  '14' : ['13','9'],\n",
        "  '15' : ['10','20'],\n",
        "  '16' : ['17','21'],\n",
        "  '17' : ['16', '22'],\n",
        "  '18' : ['13'],\n",
        "  '19' : ['20','24'],\n",
        "  '20' : ['15', '19'],\n",
        "  '21':  ['16', '26'],\n",
        "  '22' : ['17','23'],\n",
        "  '23' : ['22','24','28'],\n",
        "  '24' : ['19','25','23'],\n",
        "  '25' : ['24','30'],\n",
        "  '26' : ['21','27'],\n",
        "  '27' : ['26','32'],\n",
        "  '28' : ['23', '29'],\n",
        "  '29':  ['28', '34'],\n",
        "  '30' : ['25'],\n",
        "  '31' : ['32','36'],\n",
        "  '32' : ['27','31','33'],\n",
        "  '33' : ['32','38'],\n",
        "  '34':  ['29'],\n",
        "  '35' : ['40'],\n",
        "  '36' : ['31','41'],\n",
        "  '37' : ['38'],\n",
        "  '38' : ['37','33'],\n",
        "  '39' : ['40','44'],\n",
        "  '40' : ['35','39','45'],\n",
        "  '41' : ['36', '46'],\n",
        "  '42':  ['43', '47'],\n",
        "  '43' : ['42','44'],\n",
        "  '44' : ['43','39','49'],\n",
        "  '45' : ['40','50'],\n",
        "  '46' : ['41','47'],\n",
        "  '47' : ['42', '46'],\n",
        "  '48':  ['49'],\n",
        "  '49' : ['48','44'],\n",
        "  '50' : ['45','Goal'],\n",
        "  'Goal' : ['50'],\n",
        "}\n",
        "\n",
        "PathExist(maze2, 'Start')"
      ],
      "metadata": {
        "colab": {
          "base_uri": "https://localhost:8080/",
          "height": 35
        },
        "id": "RrQq3a3FUmjt",
        "outputId": "c2c99ef6-bd83-4cf8-ae8e-f63995255a75"
      },
      "execution_count": null,
      "outputs": [
        {
          "output_type": "execute_result",
          "data": {
            "text/plain": [
              "'FAILURE'"
            ],
            "application/vnd.google.colaboratory.intrinsic+json": {
              "type": "string"
            }
          },
          "metadata": {},
          "execution_count": 4
        }
      ]
    }
  ]
}