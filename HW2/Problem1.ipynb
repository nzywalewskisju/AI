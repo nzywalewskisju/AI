{
  "nbformat": 4,
  "nbformat_minor": 0,
  "metadata": {
    "colab": {
      "provenance": [],
      "authorship_tag": "ABX9TyOsOZC49qJRx13D+g9Y40GE",
      "include_colab_link": true
    },
    "kernelspec": {
      "name": "python3",
      "display_name": "Python 3"
    },
    "language_info": {
      "name": "python"
    }
  },
  "cells": [
    {
      "cell_type": "markdown",
      "metadata": {
        "id": "view-in-github",
        "colab_type": "text"
      },
      "source": [
        "<a href=\"https://colab.research.google.com/github/nzywalewskisju/AI/blob/main/HW2/Problem1.ipynb\" target=\"_parent\"><img src=\"https://colab.research.google.com/assets/colab-badge.svg\" alt=\"Open In Colab\"/></a>"
      ]
    },
    {
      "cell_type": "markdown",
      "source": [
        "Nick Zywalewski\n",
        "\n",
        "Purpose: The task for this problem is to use the BFS algorithm to return the kth-level friend for a given user and graph: FindFriends(G, User, K)."
      ],
      "metadata": {
        "id": "iIeZ0IrBR6N4"
      }
    },
    {
      "cell_type": "code",
      "source": [
        "from collections import deque\n",
        "\n",
        "def FindFriends(g, user, k):\n",
        "\n",
        "  # add the user to the queue with k of 0\n",
        "  visited, queue = set(), deque([(user, 0)])\n",
        "  visited.add(user)\n",
        "\n",
        "  while queue:\n",
        "\n",
        "    # the vertex and the level (k) are popped from the queue\n",
        "    vertex, level = queue.popleft()\n",
        "\n",
        "    # we are only printing the users that are a level-k friend\n",
        "    if level == k:\n",
        "      print(vertex, end= \" \")\n",
        "\n",
        "    # exploring neighbors\n",
        "    for neighbor in g[vertex]:\n",
        "      if neighbor not in visited:\n",
        "\n",
        "        # neighbor is added to visited so that it is not explored again\n",
        "        visited.add(neighbor)\n",
        "\n",
        "        # we add one to the level for the neighbors to keep track of the degree/level of friendship\n",
        "        queue.append((neighbor, level+1))\n"
      ],
      "metadata": {
        "id": "Ge2LwPCq9_gC"
      },
      "execution_count": null,
      "outputs": []
    },
    {
      "cell_type": "code",
      "source": [
        "G = {\n",
        "  'Richard' : ['Bob'],\n",
        "  'Bob' : ['Richard', 'Rob', 'Pam'],\n",
        "  'Rob' : ['Bob'],\n",
        "  'Pam' : ['Bob','Peter','Roger'],\n",
        "  'Peter' : ['Amy','Pam'],\n",
        "  'Amy' : ['Peter'],\n",
        "  'Roger' : ['Pam', 'Anna'],\n",
        "  'Anna' : ['Roger']\n",
        "}\n",
        "\n",
        "FindFriends(G, 'Bob', 3)"
      ],
      "metadata": {
        "id": "_wzdJS3kAZkF",
        "outputId": "211be72e-2675-47ba-bf38-d5436f89ff08",
        "colab": {
          "base_uri": "https://localhost:8080/"
        }
      },
      "execution_count": null,
      "outputs": [
        {
          "output_type": "stream",
          "name": "stdout",
          "text": [
            "Amy Anna "
          ]
        }
      ]
    }
  ]
}