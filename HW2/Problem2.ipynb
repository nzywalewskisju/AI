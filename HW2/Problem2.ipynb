{
  "nbformat": 4,
  "nbformat_minor": 0,
  "metadata": {
    "colab": {
      "provenance": [],
      "authorship_tag": "ABX9TyOVHHr7DetMrN97YUi/6ID7",
      "include_colab_link": true
    },
    "kernelspec": {
      "name": "python3",
      "display_name": "Python 3"
    },
    "language_info": {
      "name": "python"
    }
  },
  "cells": [
    {
      "cell_type": "markdown",
      "metadata": {
        "id": "view-in-github",
        "colab_type": "text"
      },
      "source": [
        "<a href=\"https://colab.research.google.com/github/nzywalewskisju/AI/blob/main/HW2/Problem2.ipynb\" target=\"_parent\"><img src=\"https://colab.research.google.com/assets/colab-badge.svg\" alt=\"Open In Colab\"/></a>"
      ]
    },
    {
      "cell_type": "markdown",
      "source": [
        "Nick Zywalewski\n",
        "\n",
        "Purpose: The task for this problem is to use BFS to discover potentially missing immediate connections in a network"
      ],
      "metadata": {
        "id": "R8oW3zQcSO6D"
      }
    },
    {
      "cell_type": "code",
      "execution_count": null,
      "metadata": {
        "id": "i59o49FTCO-6"
      },
      "outputs": [],
      "source": [
        "from collections import deque\n",
        "\n",
        "def PotentialFriends(g, user):\n",
        "\n",
        "  # add the user to the queue with k of 0\n",
        "  visited, queue = set(), deque([(user, 0)])\n",
        "  visited.add(user)\n",
        "\n",
        "  while queue:\n",
        "\n",
        "    # the vertex and the level (k) are popped from the queue\n",
        "    vertex, level = queue.popleft()\n",
        "\n",
        "    # checking if the person is not a direct friend of the user we care about\n",
        "    # printing the people that are not direct friends of the user\n",
        "    if level > 1:\n",
        "      print(vertex, end= \" \")\n",
        "\n",
        "    for neighbor in g[vertex]:\n",
        "      if neighbor not in visited:\n",
        "\n",
        "        # neighbor is added to visited so that it is not explored again\n",
        "        visited.add(neighbor)\n",
        "\n",
        "        # we add one to the level for the neighbors to keep track of the degree/level of friendship\n",
        "        queue.append((neighbor, level+1))"
      ]
    },
    {
      "cell_type": "code",
      "source": [
        "G = {\n",
        "  'Maya' : ['Sophia','Maria','David'],\n",
        "  'Maria' : ['Adam', 'Maya', 'Sophia','David'],\n",
        "  'David' : ['Maya','Maria'],\n",
        "  'Sophia' : ['Maya','Maria'],\n",
        "  'Adam' : ['Maria']\n",
        "}\n",
        "\n",
        "PotentialFriends(G, 'Sophia')"
      ],
      "metadata": {
        "colab": {
          "base_uri": "https://localhost:8080/"
        },
        "id": "sVEFF233Du_v",
        "outputId": "7d69686a-c254-4763-e781-b6cf7ffbf518"
      },
      "execution_count": null,
      "outputs": [
        {
          "output_type": "stream",
          "name": "stdout",
          "text": [
            "David Adam "
          ]
        }
      ]
    }
  ]
}