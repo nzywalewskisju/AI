{
  "nbformat": 4,
  "nbformat_minor": 0,
  "metadata": {
    "colab": {
      "provenance": [],
      "authorship_tag": "ABX9TyMu+gBELlBAtpm7vW8+2SEE",
      "include_colab_link": true
    },
    "kernelspec": {
      "name": "python3",
      "display_name": "Python 3"
    },
    "language_info": {
      "name": "python"
    }
  },
  "cells": [
    {
      "cell_type": "markdown",
      "metadata": {
        "id": "view-in-github",
        "colab_type": "text"
      },
      "source": [
        "<a href=\"https://colab.research.google.com/github/nzywalewskisju/AI/blob/main/HW2/Problem2.ipynb\" target=\"_parent\"><img src=\"https://colab.research.google.com/assets/colab-badge.svg\" alt=\"Open In Colab\"/></a>"
      ]
    },
    {
      "cell_type": "markdown",
      "source": [
        "Nick Zywalewski\n",
        "\n",
        "Purpose: The task for this problem is to use BFS to discover potentially missing immediate connections in a network"
      ],
      "metadata": {
        "id": "R8oW3zQcSO6D"
      }
    },
    {
      "cell_type": "code",
      "execution_count": null,
      "metadata": {
        "id": "i59o49FTCO-6"
      },
      "outputs": [],
      "source": [
        "# Finding potential friends within a network\n",
        "\n",
        "from collections import deque\n",
        "\n",
        "def PotentialFriends(g, user):\n",
        "  # the user in question is level 0\n",
        "  visited, queue = set(), deque([(user, 0)])\n",
        "  visited.add(user)\n",
        "\n",
        "  while queue:\n",
        "    vertex, level = queue.popleft()\n",
        "    # checking if the person is not a direct friend of the user we care about\n",
        "    if level > 1:\n",
        "      print(vertex, end= \" \")\n",
        "\n",
        "    for neighbor in g[vertex]:\n",
        "      if neighbor not in visited:\n",
        "        visited.add(neighbor)\n",
        "        # we add a level for the neighbors\n",
        "        queue.append((neighbor, level+1))"
      ]
    },
    {
      "cell_type": "code",
      "source": [
        "G = {\n",
        "  'Maya' : ['Sophia','Maria','David'],\n",
        "  'Maria' : ['Adam', 'Maya', 'Sophia','David'],\n",
        "  'David' : ['Maya','Maria'],\n",
        "  'Sophia' : ['Maya','Maria'],\n",
        "  'Adam' : ['Maria']\n",
        "}\n",
        "\n",
        "PotentialFriends(G, 'Sophia')"
      ],
      "metadata": {
        "colab": {
          "base_uri": "https://localhost:8080/"
        },
        "id": "sVEFF233Du_v",
        "outputId": "7d69686a-c254-4763-e781-b6cf7ffbf518"
      },
      "execution_count": null,
      "outputs": [
        {
          "output_type": "stream",
          "name": "stdout",
          "text": [
            "David Adam "
          ]
        }
      ]
    }
  ]
}