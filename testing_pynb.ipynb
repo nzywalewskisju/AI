{
  "nbformat": 4,
  "nbformat_minor": 0,
  "metadata": {
    "colab": {
      "provenance": [],
      "authorship_tag": "ABX9TyMNqzPdHyybsDAvB1FVr0FX",
      "include_colab_link": true
    },
    "kernelspec": {
      "name": "python3",
      "display_name": "Python 3"
    },
    "language_info": {
      "name": "python"
    }
  },
  "cells": [
    {
      "cell_type": "markdown",
      "metadata": {
        "id": "view-in-github",
        "colab_type": "text"
      },
      "source": [
        "<a href=\"https://colab.research.google.com/github/nzywalewskisju/Testing/blob/main/testing_pynb.ipynb\" target=\"_parent\"><img src=\"https://colab.research.google.com/assets/colab-badge.svg\" alt=\"Open In Colab\"/></a>"
      ]
    },
    {
      "cell_type": "code",
      "execution_count": null,
      "metadata": {
        "id": "MqX-Nr8i2NcT"
      },
      "outputs": [],
      "source": [
        "x = 2\n",
        "y = 7"
      ]
    },
    {
      "cell_type": "code",
      "source": [
        "z = x+y\n",
        "print(z)"
      ],
      "metadata": {
        "id": "Ky_DqX422RGQ"
      },
      "execution_count": null,
      "outputs": []
    }
  ]
}